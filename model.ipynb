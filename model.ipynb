{
 "cells": [
  {
   "cell_type": "code",
   "execution_count": 1,
   "id": "99dda0c9",
   "metadata": {},
   "outputs": [],
   "source": [
    "import tensorflow as tf\n",
    "import numpy as np\n",
    "import cv2\n",
    "import os\n",
    "import matplotlib.pyplot as plt\n",
    "from sklearn.model_selection import train_test_split\n",
    "from tensorflow.keras.preprocessing.image import ImageDataGenerator\n",
    "from tensorflow.keras.utils import to_categorical\n",
    "\n",
    "from tensorflow.keras.models import Sequential\n",
    "from tensorflow.keras.layers import Convolution2D\n",
    "from tensorflow.keras.layers import MaxPooling2D\n",
    "from tensorflow.keras.layers import Flatten,Dropout\n",
    "from tensorflow.keras.layers import Dense"
   ]
  },
  {
   "cell_type": "code",
   "execution_count": 2,
   "id": "05bcfefd",
   "metadata": {},
   "outputs": [],
   "source": [
    "model = Sequential()\n",
    "\n",
    "model.add(Convolution2D(32, 3, 3, input_shape=(128, 128, 3), activation='relu'))\n",
    "model.add(MaxPooling2D(pool_size = (2,2)))\n",
    "\n",
    "model.add(Convolution2D(32, 3, 3, activation='relu'))\n",
    "model.add(MaxPooling2D(pool_size = (2,2)))\n",
    "\n",
    "model.add(Convolution2D(64, 3, 3, activation='relu'))\n",
    "model.add(MaxPooling2D(pool_size = (2,2), padding='same'))\n",
    "\n",
    "model.add(Flatten())\n",
    "\n",
    "model.add(Dense(64, activation='relu'))\n",
    "model.add(Dropout(0.2))\n",
    "model.add(Dense(40, activation='relu'))\n",
    "model.add(Dropout(0.5))\n",
    "model.add(Dense(1, activation='sigmoid'))\n",
    "\n",
    "model.compile(optimizer='adam', loss='binary_crossentropy', metrics=['accuracy'])"
   ]
  },
  {
   "cell_type": "code",
   "execution_count": 3,
   "id": "3574168a",
   "metadata": {},
   "outputs": [],
   "source": [
    "images, classNo = [], []\n",
    "for i in range(1,3829):\n",
    "    curImg = cv2.imread(\"without_mask/without_mask_\"+str(i)+\".jpg\")\n",
    "    curImg = cv2.resize(curImg,(128,128))\n",
    "    images.append(curImg)\n",
    "    classNo.append(0)\n",
    "for i in range(1,3726):\n",
    "    curImg = cv2.imread(\"mask/with_mask_\"+str(i)+\".jpg\")\n",
    "    curImg = cv2.resize(curImg,(128,128))\n",
    "    images.append(curImg)\n",
    "    classNo.append(1)"
   ]
  },
  {
   "cell_type": "code",
   "execution_count": 4,
   "id": "dc2730d8",
   "metadata": {},
   "outputs": [
    {
     "name": "stdout",
     "output_type": "stream",
     "text": [
      "(7553, 128, 128, 3)\n",
      "(7553,)\n"
     ]
    }
   ],
   "source": [
    "images = np.array(images)\n",
    "classNo = np.array(classNo)\n",
    "\n",
    "print(images.shape)\n",
    "print(classNo.shape)"
   ]
  },
  {
   "cell_type": "code",
   "execution_count": 5,
   "id": "7543277b",
   "metadata": {},
   "outputs": [],
   "source": [
    "from sklearn.model_selection import train_test_split\n",
    "X_train, X_test, Y_train, Y_test = train_test_split(images,classNo,test_size=0.25, random_state=101)"
   ]
  },
  {
   "cell_type": "code",
   "execution_count": 6,
   "id": "0adf82d0",
   "metadata": {},
   "outputs": [
    {
     "data": {
      "text/plain": [
       "((5664, 128, 128, 3), (1889, 128, 128, 3))"
      ]
     },
     "execution_count": 6,
     "metadata": {},
     "output_type": "execute_result"
    }
   ],
   "source": [
    "X_train = X_train.reshape(X_train.shape[0],128,128,3)\n",
    "X_test = X_test.reshape(X_test.shape[0],128,128,3)\n",
    "X_train.shape, X_test.shape"
   ]
  },
  {
   "cell_type": "code",
   "execution_count": 7,
   "id": "96723d6f",
   "metadata": {},
   "outputs": [],
   "source": [
    "X_train = np.asarray(X_train)\n",
    "X_test = np.asarray(X_test)\n",
    "Y_train = np.asarray(Y_train)\n",
    "Y_test = np.asarray(Y_test)"
   ]
  },
  {
   "cell_type": "code",
   "execution_count": 8,
   "id": "f91265f2",
   "metadata": {},
   "outputs": [],
   "source": [
    "dataGen = ImageDataGenerator(width_shift_range=0.1,height_shift_range=0.1,zoom_range=0.2,shear_range=0.1,rotation_range=20)\n",
    "dataGen.fit(X_train)"
   ]
  },
  {
   "cell_type": "code",
   "execution_count": 10,
   "id": "6a18de4c",
   "metadata": {},
   "outputs": [
    {
     "name": "stdout",
     "output_type": "stream",
     "text": [
      "Epoch 1/50\n",
      "177/177 [==============================] - 4s 25ms/step - loss: 9.8452e-05 - accuracy: 1.0000 - val_loss: 0.9077 - val_accuracy: 0.9449\n",
      "Epoch 2/50\n",
      "177/177 [==============================] - 4s 23ms/step - loss: 0.1176 - accuracy: 0.9656 - val_loss: 0.2899 - val_accuracy: 0.9307\n",
      "Epoch 3/50\n",
      "177/177 [==============================] - 5s 27ms/step - loss: 0.0915 - accuracy: 0.9705 - val_loss: 0.4966 - val_accuracy: 0.9407\n",
      "Epoch 4/50\n",
      "177/177 [==============================] - 5s 29ms/step - loss: 0.0586 - accuracy: 0.9831 - val_loss: 0.4875 - val_accuracy: 0.9333\n",
      "Epoch 5/50\n",
      "177/177 [==============================] - 5s 31ms/step - loss: 0.0430 - accuracy: 0.9843 - val_loss: 0.3121 - val_accuracy: 0.9370\n",
      "Epoch 6/50\n",
      "177/177 [==============================] - 5s 30ms/step - loss: 0.0351 - accuracy: 0.9891 - val_loss: 0.3812 - val_accuracy: 0.9455\n",
      "Epoch 7/50\n",
      "177/177 [==============================] - 5s 31ms/step - loss: 0.0328 - accuracy: 0.9887 - val_loss: 0.4612 - val_accuracy: 0.9407\n",
      "Epoch 8/50\n",
      "177/177 [==============================] - 5s 29ms/step - loss: 0.0239 - accuracy: 0.9933 - val_loss: 0.4304 - val_accuracy: 0.9418\n",
      "Epoch 9/50\n",
      "177/177 [==============================] - 6s 32ms/step - loss: 0.0117 - accuracy: 0.9965 - val_loss: 0.5556 - val_accuracy: 0.9344\n",
      "Epoch 10/50\n",
      "177/177 [==============================] - 6s 32ms/step - loss: 0.0072 - accuracy: 0.9970 - val_loss: 0.6439 - val_accuracy: 0.9423\n",
      "Epoch 11/50\n",
      "177/177 [==============================] - 5s 30ms/step - loss: 0.0038 - accuracy: 0.9991 - val_loss: 0.7076 - val_accuracy: 0.9418\n",
      "Epoch 12/50\n",
      "177/177 [==============================] - 5s 28ms/step - loss: 0.0045 - accuracy: 0.9988 - val_loss: 0.8590 - val_accuracy: 0.9439\n",
      "Epoch 13/50\n",
      "177/177 [==============================] - 5s 28ms/step - loss: 0.0553 - accuracy: 0.9852 - val_loss: 0.4543 - val_accuracy: 0.9439\n",
      "Epoch 14/50\n",
      "177/177 [==============================] - 5s 28ms/step - loss: 0.0210 - accuracy: 0.9938 - val_loss: 0.5444 - val_accuracy: 0.9349\n",
      "Epoch 15/50\n",
      "177/177 [==============================] - 5s 28ms/step - loss: 0.0316 - accuracy: 0.9913 - val_loss: 0.5610 - val_accuracy: 0.9407\n",
      "Epoch 16/50\n",
      "177/177 [==============================] - 5s 30ms/step - loss: 0.0024 - accuracy: 0.9996 - val_loss: 0.6701 - val_accuracy: 0.9402\n",
      "Epoch 17/50\n",
      "177/177 [==============================] - 5s 29ms/step - loss: 0.0128 - accuracy: 0.9958 - val_loss: 0.6366 - val_accuracy: 0.9381\n",
      "Epoch 18/50\n",
      "177/177 [==============================] - 5s 30ms/step - loss: 0.0309 - accuracy: 0.9913 - val_loss: 0.3985 - val_accuracy: 0.9312\n",
      "Epoch 19/50\n",
      "177/177 [==============================] - 5s 30ms/step - loss: 0.0224 - accuracy: 0.9954 - val_loss: 0.7234 - val_accuracy: 0.9211\n",
      "Epoch 20/50\n",
      "177/177 [==============================] - 5s 29ms/step - loss: 0.0135 - accuracy: 0.9954 - val_loss: 0.7474 - val_accuracy: 0.9349\n",
      "Epoch 21/50\n",
      "177/177 [==============================] - 5s 31ms/step - loss: 0.0056 - accuracy: 0.9982 - val_loss: 0.7952 - val_accuracy: 0.9412\n",
      "Epoch 22/50\n",
      "177/177 [==============================] - 5s 29ms/step - loss: 0.0012 - accuracy: 0.9998 - val_loss: 0.8865 - val_accuracy: 0.9460\n",
      "Epoch 23/50\n",
      "177/177 [==============================] - 5s 29ms/step - loss: 3.8218e-04 - accuracy: 1.0000 - val_loss: 0.9564 - val_accuracy: 0.9471\n",
      "Epoch 24/50\n",
      "177/177 [==============================] - 5s 29ms/step - loss: 1.9838e-04 - accuracy: 1.0000 - val_loss: 1.0013 - val_accuracy: 0.9455\n",
      "Epoch 25/50\n",
      "177/177 [==============================] - 6s 33ms/step - loss: 1.1927e-04 - accuracy: 1.0000 - val_loss: 1.0436 - val_accuracy: 0.9460\n",
      "Epoch 26/50\n",
      "177/177 [==============================] - 5s 31ms/step - loss: 1.0248e-04 - accuracy: 1.0000 - val_loss: 1.0950 - val_accuracy: 0.9455\n",
      "Epoch 27/50\n",
      "177/177 [==============================] - 5s 27ms/step - loss: 3.9326e-05 - accuracy: 1.0000 - val_loss: 1.1119 - val_accuracy: 0.9465\n",
      "Epoch 28/50\n",
      "177/177 [==============================] - 5s 28ms/step - loss: 5.7187e-05 - accuracy: 1.0000 - val_loss: 1.1307 - val_accuracy: 0.9471\n",
      "Epoch 29/50\n",
      "177/177 [==============================] - 5s 29ms/step - loss: 1.8941e-04 - accuracy: 0.9998 - val_loss: 1.1520 - val_accuracy: 0.9465\n",
      "Epoch 30/50\n",
      "177/177 [==============================] - 5s 30ms/step - loss: 5.6159e-05 - accuracy: 1.0000 - val_loss: 1.1675 - val_accuracy: 0.9460\n",
      "Epoch 31/50\n",
      "177/177 [==============================] - 5s 30ms/step - loss: 5.1380e-05 - accuracy: 1.0000 - val_loss: 1.2115 - val_accuracy: 0.9449\n",
      "Epoch 32/50\n",
      "177/177 [==============================] - 5s 28ms/step - loss: 3.2273e-05 - accuracy: 1.0000 - val_loss: 1.2324 - val_accuracy: 0.9449\n",
      "Epoch 33/50\n",
      "177/177 [==============================] - 5s 28ms/step - loss: 4.2789e-05 - accuracy: 1.0000 - val_loss: 1.2732 - val_accuracy: 0.9444\n",
      "Epoch 34/50\n",
      "177/177 [==============================] - 5s 27ms/step - loss: 2.3490e-05 - accuracy: 1.0000 - val_loss: 1.2763 - val_accuracy: 0.9455\n",
      "Epoch 35/50\n",
      "177/177 [==============================] - 5s 28ms/step - loss: 3.0544e-05 - accuracy: 1.0000 - val_loss: 1.3022 - val_accuracy: 0.9455\n",
      "Epoch 36/50\n",
      "177/177 [==============================] - 5s 29ms/step - loss: 0.1394 - accuracy: 0.9633 - val_loss: 0.2897 - val_accuracy: 0.9317\n",
      "Epoch 37/50\n",
      "177/177 [==============================] - 5s 30ms/step - loss: 0.0913 - accuracy: 0.9703 - val_loss: 0.2688 - val_accuracy: 0.9434\n",
      "Epoch 38/50\n",
      "177/177 [==============================] - 5s 31ms/step - loss: 0.0251 - accuracy: 0.9928 - val_loss: 0.4354 - val_accuracy: 0.9423\n",
      "Epoch 39/50\n",
      "177/177 [==============================] - 6s 33ms/step - loss: 0.0421 - accuracy: 0.9861 - val_loss: 0.3621 - val_accuracy: 0.9370\n",
      "Epoch 40/50\n",
      "177/177 [==============================] - 6s 34ms/step - loss: 0.0221 - accuracy: 0.9924 - val_loss: 0.4749 - val_accuracy: 0.9471\n",
      "Epoch 41/50\n",
      "177/177 [==============================] - 6s 32ms/step - loss: 0.0076 - accuracy: 0.9970 - val_loss: 0.6111 - val_accuracy: 0.9476\n",
      "Epoch 42/50\n",
      "177/177 [==============================] - 6s 32ms/step - loss: 0.0029 - accuracy: 0.9989 - val_loss: 0.7206 - val_accuracy: 0.9487\n",
      "Epoch 43/50\n",
      "177/177 [==============================] - 6s 31ms/step - loss: 0.0554 - accuracy: 0.9864 - val_loss: 0.3098 - val_accuracy: 0.9333\n",
      "Epoch 44/50\n",
      "177/177 [==============================] - 6s 31ms/step - loss: 0.0472 - accuracy: 0.9848 - val_loss: 0.3907 - val_accuracy: 0.9460\n",
      "Epoch 45/50\n",
      "177/177 [==============================] - 6s 32ms/step - loss: 0.0171 - accuracy: 0.9952 - val_loss: 0.4402 - val_accuracy: 0.9439\n",
      "Epoch 46/50\n",
      "177/177 [==============================] - 5s 30ms/step - loss: 0.0054 - accuracy: 0.9984 - val_loss: 0.6049 - val_accuracy: 0.9428\n",
      "Epoch 47/50\n",
      "177/177 [==============================] - 5s 29ms/step - loss: 0.0021 - accuracy: 1.0000 - val_loss: 0.6785 - val_accuracy: 0.9465\n",
      "Epoch 48/50\n",
      "177/177 [==============================] - 5s 29ms/step - loss: 5.3522e-04 - accuracy: 1.0000 - val_loss: 0.7405 - val_accuracy: 0.9465\n",
      "Epoch 49/50\n",
      "177/177 [==============================] - 5s 30ms/step - loss: 4.4597e-04 - accuracy: 0.9998 - val_loss: 0.8253 - val_accuracy: 0.9487\n",
      "Epoch 50/50\n",
      "177/177 [==============================] - 5s 30ms/step - loss: 1.7982e-04 - accuracy: 1.0000 - val_loss: 0.8749 - val_accuracy: 0.9487\n"
     ]
    }
   ],
   "source": [
    "history = model.fit(X_train,Y_train,epochs=50,validation_data=(X_test,Y_test))"
   ]
  },
  {
   "cell_type": "code",
   "execution_count": 11,
   "id": "4b52b693",
   "metadata": {},
   "outputs": [
    {
     "data": {
      "text/plain": [
       "<tensorflow.python.keras.callbacks.History at 0x145bd1bcc10>"
      ]
     },
     "execution_count": 11,
     "metadata": {},
     "output_type": "execute_result"
    }
   ],
   "source": [
    "history"
   ]
  },
  {
   "cell_type": "code",
   "execution_count": 12,
   "id": "3e65ac4e",
   "metadata": {},
   "outputs": [
    {
     "data": {
      "image/png": "[encoded data removed]",
      "text/plain": [
       "<Figure size 432x288 with 1 Axes>"
      ]
     },
     "metadata": {
      "needs_background": "light"
     },
     "output_type": "display_data"
    }
   ],
   "source": [
    "plt.plot(history.history['loss'])\n",
    "plt.plot(history.history['val_loss'])\n",
    "plt.title('Model Loss')\n",
    "plt.xlabel('Epoch')\n",
    "plt.ylabel('Loss')\n",
    "plt.legend(['train','test'])\n",
    "plt.show()"
   ]
  },
  {
   "cell_type": "code",
   "execution_count": 13,
   "id": "b6fad2c8",
   "metadata": {},
   "outputs": [
    {
     "data": {
      "image/png": "[encoded data removed]",
      "text/plain": [
       "<Figure size 432x288 with 1 Axes>"
      ]
     },
     "metadata": {
      "needs_background": "light"
     },
     "output_type": "display_data"
    }
   ],
   "source": [
    "plt.plot(history.history['accuracy'])\n",
    "plt.plot(history.history['val_accuracy'])\n",
    "plt.title('Model Accuracy')\n",
    "plt.xlabel('Epoch')\n",
    "plt.ylabel('Accuracy')\n",
    "plt.legend(['train','test'])\n",
    "plt.show()"
   ]
  },
  {
   "cell_type": "code",
   "execution_count": 14,
   "id": "dc598009",
   "metadata": {},
   "outputs": [
    {
     "name": "stdout",
     "output_type": "stream",
     "text": [
      "60/60 [==============================] - 1s 11ms/step - loss: 0.8749 - accuracy: 0.9487\n"
     ]
    },
    {
     "data": {
      "text/plain": [
       "[0.8748944997787476, 0.948650062084198]"
      ]
     },
     "execution_count": 14,
     "metadata": {},
     "output_type": "execute_result"
    }
   ],
   "source": [
    "  model.evaluate(X_test, Y_test)"
   ]
  },
  {
   "cell_type": "code",
   "execution_count": 15,
   "id": "fec2ce3a",
   "metadata": {},
   "outputs": [
    {
     "data": {
      "text/plain": [
       "array([[1.00000000e+00],\n",
       "       [7.07907437e-20],\n",
       "       [1.00000000e+00],\n",
       "       ...,\n",
       "       [1.00000000e+00],\n",
       "       [1.00000000e+00],\n",
       "       [1.21983796e-17]], dtype=float32)"
      ]
     },
     "execution_count": 15,
     "metadata": {},
     "output_type": "execute_result"
    }
   ],
   "source": [
    "model.predict(X_test)"
   ]
  },
  {
   "cell_type": "code",
   "execution_count": 16,
   "id": "fabbb00e",
   "metadata": {},
   "outputs": [],
   "source": [
    "import cv2\n",
    "haar_data = cv2.CascadeClassifier(\"haarcascade_frontalface_default.xml\")"
   ]
  },
  {
   "cell_type": "code",
   "execution_count": 17,
   "id": "0c410623",
   "metadata": {},
   "outputs": [],
   "source": [
    "cap = cv2.VideoCapture(0)\n",
    "while True:\n",
    "    success, img = cap.read()\n",
    "    img = cv2.flip(img, 1)\n",
    "    if success:\n",
    "        faces = haar_data.detectMultiScale(img)\n",
    "        for x, y, w, h in faces:\n",
    "            cv2.rectangle(img, (x-5,y-5), (x+w+5,y+h+5), (0,255,0), 4)\n",
    "            \n",
    "            face = img[y:y+h, x:x+w, :]\n",
    "            \n",
    "            face = cv2.resize(face, (128, 128))\n",
    "            \n",
    "            face = np.array(face)\n",
    "            face = face.reshape(1,128,128,3)\n",
    "            if model.predict(face) > 0.5:\n",
    "                state = 'Mask'\n",
    "            else:\n",
    "                state = 'Without Mask'\n",
    "                \n",
    "            cv2.putText(img, state, (x-5,y-5), cv2.FONT_HERSHEY_PLAIN,2,(0,255,0),2)\n",
    "            \n",
    "        cv2.imshow('Faces', img)\n",
    "        \n",
    "        if cv2.waitKey(1) == 27:\n",
    "            break\n",
    "            \n",
    "cap.release()\n",
    "cv2.destroyAllWindows()"
   ]
  },
  {
   "cell_type": "code",
   "execution_count": 18,
   "id": "04e01798",
   "metadata": {},
   "outputs": [],
   "source": [
    "cap.release()\n",
    "cv2.destroyAllWindows()"
   ]
  },
  {
   "cell_type": "code",
   "execution_count": 40,
   "id": "80d22aeb",
   "metadata": {},
   "outputs": [],
   "source": [
    "model.save('mask_detection_model.h5')"
   ]
  },
  {
   "cell_type": "code",
   "execution_count": null,
   "id": "7639c749",
   "metadata": {},
   "outputs": [],
   "source": []
  },
  {
   "cell_type": "code",
   "execution_count": null,
   "id": "265b1773",
   "metadata": {},
   "outputs": [],
   "source": []
  },
  {
   "cell_type": "code",
   "execution_count": null,
   "id": "081d9691",
   "metadata": {},
   "outputs": [],
   "source": []
  }
 ],
 "metadata": {
  "kernelspec": {
   "display_name": "Python 3 (ipykernel)",
   "language": "python",
   "name": "python3"
  },
  "language_info": {
   "codemirror_mode": {
    "name": "ipython",
    "version": 3
   },
   "file_extension": ".py",
   "mimetype": "text/x-python",
   "name": "python",
   "nbconvert_exporter": "python",
   "pygments_lexer": "ipython3",
   "version": "3.9.5"
  }
 },
 "nbformat": 4,
 "nbformat_minor": 5
}
